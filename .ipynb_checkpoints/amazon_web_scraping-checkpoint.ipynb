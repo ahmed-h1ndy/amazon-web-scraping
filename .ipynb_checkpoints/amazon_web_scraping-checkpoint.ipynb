{
 "cells": [
  {
   "cell_type": "code",
   "execution_count": 19,
   "id": "84392bc9-3d25-4f0a-9545-4a263f8ec4dd",
   "metadata": {},
   "outputs": [],
   "source": [
    "# import libraries\n",
    "\n",
    "from bs4 import BeautifulSoup as bs\n",
    "import pandas as pd\n",
    "import requests\n",
    "import smtplib\n",
    "import time\n",
    "import datetime\n",
    "import os\n",
    "import csv"
   ]
  },
  {
   "cell_type": "code",
   "execution_count": 21,
   "id": "c372cbb7-23ef-4ece-916b-d3cff0d2238d",
   "metadata": {},
   "outputs": [
    {
     "name": "stdout",
     "output_type": "stream",
     "text": [
      "('\\n             Apple iPhone 16 Pro Max (256 GB) - Black Titanium\\n            ', '\\n                               73,999\\n                               \\n                                .\\n                               \\n')\n"
     ]
    }
   ],
   "source": [
    "# Connect to website\n",
    "\n",
    "# fetched product URL\n",
    "URL = \"https://www.amazon.eg/-/en/Apple-iPhone-Pro-Max-256/dp/B0DGJ2FB85?dib=eyJ2IjoiMSJ9.62JVeFnwGbLRqDpUcXqeiLmSj_AQK21UQ7Hidg22xCRLwMq1zqqVEGWFFH57T05lteFUXIzKR9QSD__0JV8IvR-5iDrYPGRMhmWBfb2m8dDVMg9QVaApOx5G4GUhGQX-X0r7Yo2Xcmlfwx9BxvxBSNtXWpM39Fr9zEpFiydma7S4UD11KIOoeqTnHhBilp6BPW72M0Yu9SaQTwwRGz9BbN6PNY202pCF6J6E4XSLgI1blFJG_AQkXuj7p-zTbHI5nwIoI0a9aHmJ9ddeoJOrw-9vvtw3__l0mpxtsZqfvOU.vo5dmpKO7M0GlclZjLGuVINpdfI4-Z8XXoDRP2WSYfo&dib_tag=se&qid=1750205798&refinements=p_89%3AApple&s=electronics&sr=1-4\"\n",
    "\n",
    "def fetch_product_info(url):\n",
    "    \n",
    "    headers = {\"User-Agent\": \"Mozilla/5.0 (Windows NT 10.0; Win64; x64) AppleWebKit/537.36 (KHTML, like Gecko) Chrome/123.0.0.0 Safari/537.36 OPR/109.0.0.0\"}\n",
    "    \n",
    "    page = requests.get(URL, headers = headers)\n",
    "\n",
    "    #fetching data\n",
    "    soup1 = bs(page.content, \"html.parser\")\n",
    "    soup2 = bs(soup1.prettify())\n",
    "    title = soup2.find(id = 'productTitle').get_text()\n",
    "    price = soup2.find(class_ = 'a-price-whole').get_text()\n",
    "\n",
    "    current_date = datetime.date.today()\n",
    "\n",
    "    return (title, price, current_date)\n",
    "\n",
    "print(get_product_info(URL))\n"
   ]
  },
  {
   "cell_type": "code",
   "execution_count": 25,
   "id": "0bab68ab-590c-47ac-8780-8d26daacc187",
   "metadata": {},
   "outputs": [
    {
     "name": "stdout",
     "output_type": "stream",
     "text": [
      "('Apple iPhone 16 Pro Max (256 GB) - Black Titanium', '73,999.', datetime.date(2025, 6, 18))\n"
     ]
    }
   ],
   "source": [
    "#data cleaning\n",
    "def get_product(url):\n",
    "    title, price, current_date = fetch_product_info(url)\n",
    "    \n",
    "    price = price.strip()\n",
    "    price = price.replace(' ', '')\n",
    "    price = price.replace('\\n', '')\n",
    "    title = title.strip()\n",
    "    \n",
    "    return (title, price, current_date)\n",
    "\n",
    "\n",
    "print(get_product(URL))"
   ]
  },
  {
   "cell_type": "code",
   "execution_count": 43,
   "id": "629edee5-5e30-4cb2-87f4-b0655f183631",
   "metadata": {},
   "outputs": [],
   "source": [
    "# Creating the csv\n",
    "fileName = \"amazon_products_data.csv\"\n",
    "\n",
    "def create_amazon_prices_csv(product):\n",
    "    header = ['Title', 'Price', 'Date']\n",
    "    \n",
    "    with open(fileName, 'w', newline = '', encoding = 'UTF8') as f:\n",
    "        writer = csv.writer(f)\n",
    "        writer.writerow(header)\n",
    "        writer.writerow(product)\n",
    "\n",
    "iphone16 = get_product(URL)\n",
    "create_amazon_prices_csv(iphone16)"
   ]
  },
  {
   "cell_type": "code",
   "execution_count": 29,
   "id": "4c60d064-7cea-462e-a048-1b9c6ebb3b60",
   "metadata": {},
   "outputs": [],
   "source": [
    "# Appending data to the csv\n",
    "def add_product_to_csv(product):\n",
    "    with open(fileName, 'a+', newline = '', encoding = 'UTF8') as f:\n",
    "        writer = csv.writer(f)\n",
    "        writer.writerow(product)\n",
    "\n",
    "iphone16_latest = get_product(URL)\n",
    "add_product_to_csv(iphone16_latest)"
   ]
  },
  {
   "cell_type": "code",
   "execution_count": 31,
   "id": "9510706c-cd4e-49ff-ad77-96db4046f446",
   "metadata": {},
   "outputs": [],
   "source": [
    "#check the price, update the csv file if it exists, create it if it doesn't exist\n",
    "def check_price(url):\n",
    "    \n",
    "    title, price, current_date = get_product(url)\n",
    "\n",
    "    header = ['Title', 'Price', 'Date']\n",
    "    product = [title, price, current_date]\n",
    "\n",
    "    if os.path.exists(fileName):\n",
    "        add_product_to_csv(product)\n",
    "    else:\n",
    "        create_amazon_prices_csv(product)\n",
    "\n",
    "    print(price)"
   ]
  },
  {
   "cell_type": "code",
   "execution_count": 45,
   "id": "5f808e2f-b99a-4340-be07-ff8fd88cafd4",
   "metadata": {},
   "outputs": [
    {
     "name": "stdout",
     "output_type": "stream",
     "text": [
      "73,999.\n"
     ]
    },
    {
     "data": {
      "text/html": [
       "<div>\n",
       "<style scoped>\n",
       "    .dataframe tbody tr th:only-of-type {\n",
       "        vertical-align: middle;\n",
       "    }\n",
       "\n",
       "    .dataframe tbody tr th {\n",
       "        vertical-align: top;\n",
       "    }\n",
       "\n",
       "    .dataframe thead th {\n",
       "        text-align: right;\n",
       "    }\n",
       "</style>\n",
       "<table border=\"1\" class=\"dataframe\">\n",
       "  <thead>\n",
       "    <tr style=\"text-align: right;\">\n",
       "      <th></th>\n",
       "      <th>Title</th>\n",
       "      <th>Price</th>\n",
       "      <th>Date</th>\n",
       "    </tr>\n",
       "  </thead>\n",
       "  <tbody>\n",
       "    <tr>\n",
       "      <th>0</th>\n",
       "      <td>Apple iPhone 16 Pro Max (256 GB) - Black Titanium</td>\n",
       "      <td>73,999.</td>\n",
       "      <td>2025-06-18</td>\n",
       "    </tr>\n",
       "    <tr>\n",
       "      <th>1</th>\n",
       "      <td>Apple iPhone 16 Pro Max (256 GB) - Black Titanium</td>\n",
       "      <td>73,999.</td>\n",
       "      <td>2025-06-18</td>\n",
       "    </tr>\n",
       "  </tbody>\n",
       "</table>\n",
       "</div>"
      ],
      "text/plain": [
       "                                               Title    Price        Date\n",
       "0  Apple iPhone 16 Pro Max (256 GB) - Black Titanium  73,999.  2025-06-18\n",
       "1  Apple iPhone 16 Pro Max (256 GB) - Black Titanium  73,999.  2025-06-18"
      ]
     },
     "execution_count": 45,
     "metadata": {},
     "output_type": "execute_result"
    }
   ],
   "source": [
    "check_price(URL)\n",
    "df = pd.read_csv(fileName)\n",
    "df"
   ]
  },
  {
   "cell_type": "code",
   "execution_count": 41,
   "id": "21dfefba-bd4d-4dda-ac35-0c6653d0fec6",
   "metadata": {},
   "outputs": [],
   "source": [
    "# track price over time\n",
    "def notify_me_every_x_hours(url, x):\n",
    "    hour = 3600\n",
    "    while(True):\n",
    "        check_price(url)\n",
    "        time.sleep(x * hour)"
   ]
  }
 ],
 "metadata": {
  "kernelspec": {
   "display_name": "Python [conda env:base] *",
   "language": "python",
   "name": "conda-base-py"
  },
  "language_info": {
   "codemirror_mode": {
    "name": "ipython",
    "version": 3
   },
   "file_extension": ".py",
   "mimetype": "text/x-python",
   "name": "python",
   "nbconvert_exporter": "python",
   "pygments_lexer": "ipython3",
   "version": "3.12.7"
  }
 },
 "nbformat": 4,
 "nbformat_minor": 5
}
