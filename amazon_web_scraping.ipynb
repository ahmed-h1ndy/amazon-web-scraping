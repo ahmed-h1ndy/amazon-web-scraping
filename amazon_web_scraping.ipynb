{
 "cells": [
  {
   "cell_type": "code",
   "execution_count": 174,
   "id": "84392bc9-3d25-4f0a-9545-4a263f8ec4dd",
   "metadata": {},
   "outputs": [],
   "source": [
    "# import libraries\n",
    "\n",
    "from bs4 import BeautifulSoup as bs\n",
    "import pandas as pd\n",
    "import requests\n",
    "import smtplib\n",
    "import time\n",
    "import datetime\n",
    "import os"
   ]
  },
  {
   "cell_type": "code",
   "execution_count": 166,
   "id": "c372cbb7-23ef-4ece-916b-d3cff0d2238d",
   "metadata": {},
   "outputs": [
    {
     "name": "stdout",
     "output_type": "stream",
     "text": [
      "('\\n             FOLDING DOOR, ACCORDION, P.V.C,H210CM,L86CM - White Printed\\n            ', '\\n                               1,200\\n                               \\n                                .\\n                               \\n')\n"
     ]
    }
   ],
   "source": [
    "# Connect to website\n",
    "\n",
    "#https://www.amazon.eg/-/en/Generic-acor-1-Full-accordion-door/dp/B0BD2QJRSC\n",
    "#https://www.amazon.eg/-/en/Sony-Wh-1000Xm4-Cancelling-Bluetooth-Headphones/dp/B08F4WX2PM?adgrpid=129071054609&dib=eyJ2IjoiMSJ9.lkGb6WEzeBvd_IirrDqmOY6I9PT4Ub5zrL7A1tbXyf72t9Zsp_52-33uf-95iOfo-q6ZqhBrKlVG5zilS9uXeP_0dz0K9LH2fPY5X5qsGPGsnTILXP0OojhH6MY5Gw6fq7N6hV0QaQTf9i21OwkNjcFswO0pLQezkzvrHvVR7MNVtMiZMKHFqtcE-yJNpIvgZRFsy6mSIJ74CESJt6dP5qm4tcSTR3a6DvuwY1jTngXBEI2DIs-VFIyT-53lfOGiyf5_DHF53JWJsxpIIfMweeJq7JCQA554FChSqfGrrPUFmyhdIDE766JzenTaKMCJS8Q7EZ_CuVukYX1gzGXKKERpDKRrUUvpy5I2B9UJ6ySk3s84elP6tL9aUEhU3B05cACHxRlKaGgpcznqE3ZIxciUoxhTIKvnZZmw8jY8_SMFKTlZP9psz6Iai9ccNklo.b6gKJWDW5JMW7Li-iDcHPldH9938dli9FRMc4UeAYKM&dib_tag=se&hvadid=669751108267&hvdev=c&hvlocphy=9196093&hvnetw=g&hvqmt=b&hvrand=11336543413370813804&hvtargid=kwd-672030147043&hydadcr=23379_2284837&keywords=sony%2Bwh-1000xm4&mcid=ff4a6038520030d383878427ab75e0ea&qid=1736600934&sr=8-2&th=1\n",
    "URL = \"https://www.amazon.eg/-/en/FOLDING-ACCORDION-P-V-C-H210CM-L86CM/dp/B0DHPP3RYV/259-8387494-8113535?pd_rd_w=66fO3&content-id=amzn1.sym.b2576734-fc79-478b-9536-7086f85e09a0&pf_rd_p=b2576734-fc79-478b-9536-7086f85e09a0&pf_rd_r=D21DXHSDJZCEAK2BW2ZR&pd_rd_wg=29xrP&pd_rd_r=f2609cd0-5af0-44cc-a17a-b7ec1d08a2fa&pd_rd_i=B0DHPP3RYV&psc=1\"\n",
    "\n",
    "def get_product_info(url):\n",
    "    \n",
    "    headers = {\"User-Agent\": \"Mozilla/5.0 (Windows NT 10.0; Win64; x64) AppleWebKit/537.36 (KHTML, like Gecko) Chrome/123.0.0.0 Safari/537.36 OPR/109.0.0.0\"}\n",
    "    \n",
    "    page = requests.get(URL, headers = headers)\n",
    "    \n",
    "    soup1 = bs(page.content, \"html.parser\")\n",
    "    \n",
    "    soup2 = bs(soup1.prettify())\n",
    "    \n",
    "    title = soup2.find(id = 'productTitle').get_text()\n",
    "    \n",
    "    price = soup2.find(class_ = 'a-price-whole').get_text()\n",
    "\n",
    "    return (title, price)\n",
    "\n",
    "print(get_product_info(URL))\n"
   ]
  },
  {
   "cell_type": "code",
   "execution_count": 121,
   "id": "0bab68ab-590c-47ac-8780-8d26daacc187",
   "metadata": {},
   "outputs": [
    {
     "name": "stdout",
     "output_type": "stream",
     "text": [
      "('FOLDING DOOR, ACCORDION, P.V.C,H210CM,L86CM - White Printed', '1,200.')\n"
     ]
    }
   ],
   "source": [
    "def clean_product_info(title, price):\n",
    "    price = price.strip()\n",
    "    price = price.replace(' ', '')\n",
    "    price = price.replace('\\n', '')\n",
    "    #price = price.replace(\"'\", '')\n",
    "    title = title.strip()\n",
    "    return (title, price)\n",
    "\n",
    "print(clean_product_info(title, price))"
   ]
  },
  {
   "cell_type": "code",
   "execution_count": 23,
   "id": "9198a163-c6fb-4710-a67a-5cde295e1e4f",
   "metadata": {},
   "outputs": [],
   "source": [
    "import csv"
   ]
  },
  {
   "cell_type": "code",
   "execution_count": 134,
   "id": "629edee5-5e30-4cb2-87f4-b0655f183631",
   "metadata": {},
   "outputs": [],
   "source": [
    "# Creating the csv\n",
    "fileName = \"amazon_products_data.csv\"\n",
    "\n",
    "def create_amazon_prices_csv(product):\n",
    "    header = ['Title', 'Price', 'Date']\n",
    "    \n",
    "    with open(fileName, 'w', newline = '', encoding = 'UTF8') as f:\n",
    "        writer = csv.writer(f)\n",
    "        writer.writerow(header)\n",
    "        writer.writerow(product)\n",
    "create_amazon_prices_csv([title, price, today])\n",
    "\n"
   ]
  },
  {
   "cell_type": "code",
   "execution_count": 93,
   "id": "4c60d064-7cea-462e-a048-1b9c6ebb3b60",
   "metadata": {},
   "outputs": [],
   "source": [
    "# Appending data to the csv\n",
    "def add_product_to_csv(product):\n",
    "    with open(fileName, 'a+', newline = '', encoding = 'UTF8') as f:\n",
    "        writer = csv.writer(f)\n",
    "        #writer.writerow(header)\n",
    "        writer.writerow(product)\n",
    "add_product_to_csv(data)"
   ]
  },
  {
   "cell_type": "code",
   "execution_count": 154,
   "id": "9510706c-cd4e-49ff-ad77-96db4046f446",
   "metadata": {},
   "outputs": [],
   "source": [
    "def check_price(url):\n",
    "    title, price = get_product_info(url)\n",
    "\n",
    "    title, price = clean_product_info(title, price)\n",
    "\n",
    "    today = datetime.date.today()\n",
    "\n",
    "    header = ['Title', 'Price', 'Date']\n",
    "    product = [title, price, today]\n",
    "\n",
    "    if os.path.exists(fileName):\n",
    "        add_product_to_csv(product)\n",
    "    else:\n",
    "        create_amazon_prices_csv(product)\n",
    "\n",
    "    #if(price == \"13,458.\"):\n",
    "        #print(\"yes\")\n",
    "        #send_mail()\n",
    "    print(price)\n"
   ]
  },
  {
   "cell_type": "code",
   "execution_count": 168,
   "id": "5f808e2f-b99a-4340-be07-ff8fd88cafd4",
   "metadata": {},
   "outputs": [
    {
     "name": "stdout",
     "output_type": "stream",
     "text": [
      "1,200.\n"
     ]
    },
    {
     "data": {
      "text/html": [
       "<div>\n",
       "<style scoped>\n",
       "    .dataframe tbody tr th:only-of-type {\n",
       "        vertical-align: middle;\n",
       "    }\n",
       "\n",
       "    .dataframe tbody tr th {\n",
       "        vertical-align: top;\n",
       "    }\n",
       "\n",
       "    .dataframe thead th {\n",
       "        text-align: right;\n",
       "    }\n",
       "</style>\n",
       "<table border=\"1\" class=\"dataframe\">\n",
       "  <thead>\n",
       "    <tr style=\"text-align: right;\">\n",
       "      <th></th>\n",
       "      <th>Title</th>\n",
       "      <th>Price</th>\n",
       "      <th>Date</th>\n",
       "    </tr>\n",
       "  </thead>\n",
       "  <tbody>\n",
       "    <tr>\n",
       "      <th>0</th>\n",
       "      <td>FOLDING DOOR, ACCORDION, P.V.C,H210CM,L86CM - ...</td>\n",
       "      <td>1,200.</td>\n",
       "      <td>2025-06-13</td>\n",
       "    </tr>\n",
       "    <tr>\n",
       "      <th>1</th>\n",
       "      <td>FOLDING DOOR, ACCORDION, P.V.C,H210CM,L86CM - ...</td>\n",
       "      <td>1,200.</td>\n",
       "      <td>2025-06-13</td>\n",
       "    </tr>\n",
       "  </tbody>\n",
       "</table>\n",
       "</div>"
      ],
      "text/plain": [
       "                                               Title   Price        Date\n",
       "0  FOLDING DOOR, ACCORDION, P.V.C,H210CM,L86CM - ...  1,200.  2025-06-13\n",
       "1  FOLDING DOOR, ACCORDION, P.V.C,H210CM,L86CM - ...  1,200.  2025-06-13"
      ]
     },
     "execution_count": 168,
     "metadata": {},
     "output_type": "execute_result"
    }
   ],
   "source": [
    "check_price(\"https://www.amazon.eg/-/en/FOLDING-ACCORDION-P-V-C-H210CM-L86CM/dp/B0DHPP3RYV/259-8387494-8113535?pd_rd_w=66fO3&content-id=amzn1.sym.b2576734-fc79-478b-9536-7086f85e09a0&pf_rd_p=b2576734-fc79-478b-9536-7086f85e09a0&pf_rd_r=D21DXHSDJZCEAK2BW2ZR&pd_rd_wg=29xrP&pd_rd_r=f2609cd0-5af0-44cc-a17a-b7ec1d08a2fa&pd_rd_i=B0DHPP3RYV&psc=1\")\n",
    "df = pd.read_csv(fileName)\n",
    "df"
   ]
  },
  {
   "cell_type": "code",
   "execution_count": 172,
   "id": "21dfefba-bd4d-4dda-ac35-0c6653d0fec6",
   "metadata": {},
   "outputs": [],
   "source": [
    "\n",
    "def notify_me_every_x_hours(hours):\n",
    "    x = 3600\n",
    "    while(True):\n",
    "        check_price()\n",
    "        time.sleep(x * hours)"
   ]
  },
  {
   "cell_type": "code",
   "execution_count": 188,
   "id": "3e772bb5-39fb-4fb3-8f94-39cff5c27839",
   "metadata": {},
   "outputs": [],
   "source": [
    "# we need to check the password problem & potentially other problems to send emails normlly\n",
    "\n",
    "\n",
    "def send_mail():\n",
    "    server = smtplib.SMTP_SSL('smtp.gmail.com', 465)\n",
    "    server.ehlo()\n",
    "    #server.starttls()\n",
    "    server.ehlo()\n",
    "    server.login('ahmedgamerpes2016@gmail.com', 'mypassword')\n",
    "    subject = \"The Sony WH4 headphone is below 10,000!\"\n",
    "    body = \" Ahmed, this is it!, it's biggest you gonn aget tso enjoy it \"\n",
    "    msg = f\"subject: {subject}\\n\\\\\\n{body}\"\n",
    "\n",
    "    server.sendmail(\n",
    "        'ahmedgamerpes2016@gmail.com',\n",
    "        msg\n",
    "    )"
   ]
  },
  {
   "cell_type": "code",
   "execution_count": null,
   "id": "4180857d-a319-4120-b0e4-aefa60d5faab",
   "metadata": {},
   "outputs": [],
   "source": []
  },
  {
   "cell_type": "code",
   "execution_count": null,
   "id": "43a88f27-747c-4009-ab04-c6e293ef8d8d",
   "metadata": {},
   "outputs": [],
   "source": []
  },
  {
   "cell_type": "code",
   "execution_count": null,
   "id": "a3e6dd55-f2fa-4a9a-9e1e-8e4ed27b3d61",
   "metadata": {},
   "outputs": [],
   "source": []
  },
  {
   "cell_type": "code",
   "execution_count": null,
   "id": "17d66549-90b7-439f-ae7f-a8131143aa4a",
   "metadata": {},
   "outputs": [],
   "source": []
  },
  {
   "cell_type": "code",
   "execution_count": null,
   "id": "e6b796a9-7347-4ad2-886a-a6fb551635c5",
   "metadata": {},
   "outputs": [],
   "source": []
  },
  {
   "cell_type": "code",
   "execution_count": null,
   "id": "93319b3b-8b1b-4fc1-a660-bb2301c292d1",
   "metadata": {},
   "outputs": [],
   "source": []
  },
  {
   "cell_type": "code",
   "execution_count": null,
   "id": "79b8a12a-2a76-4634-8ded-5b87c939b17d",
   "metadata": {},
   "outputs": [],
   "source": []
  },
  {
   "cell_type": "code",
   "execution_count": null,
   "id": "706285d9-c467-4a37-ac4f-a433eb4b3a47",
   "metadata": {},
   "outputs": [],
   "source": []
  },
  {
   "cell_type": "code",
   "execution_count": null,
   "id": "9a9238c4-265f-489b-bd16-245189768603",
   "metadata": {},
   "outputs": [],
   "source": []
  },
  {
   "cell_type": "code",
   "execution_count": null,
   "id": "c6456d6f-8274-40b7-b8ac-b8b8b52c3d84",
   "metadata": {},
   "outputs": [],
   "source": []
  },
  {
   "cell_type": "code",
   "execution_count": null,
   "id": "fe022908-785e-49d1-a63d-888b5dd97534",
   "metadata": {},
   "outputs": [],
   "source": []
  },
  {
   "cell_type": "code",
   "execution_count": null,
   "id": "3f3c43c9-a793-4552-a17e-5f6868caa7d7",
   "metadata": {},
   "outputs": [],
   "source": []
  },
  {
   "cell_type": "code",
   "execution_count": null,
   "id": "aa6bcef3-4493-4576-a52e-22174cebe2c5",
   "metadata": {},
   "outputs": [],
   "source": []
  },
  {
   "cell_type": "code",
   "execution_count": null,
   "id": "89840c1a-3f6a-4a37-8b94-485882375b5a",
   "metadata": {},
   "outputs": [],
   "source": []
  },
  {
   "cell_type": "code",
   "execution_count": null,
   "id": "e03cec89-85dd-4791-bdca-86d27ec2ecc9",
   "metadata": {},
   "outputs": [],
   "source": []
  },
  {
   "cell_type": "code",
   "execution_count": null,
   "id": "7491ec12-b733-4c0c-bd28-23ad59d9e912",
   "metadata": {},
   "outputs": [],
   "source": []
  },
  {
   "cell_type": "code",
   "execution_count": null,
   "id": "8f44e823-2082-426f-84a5-4b37eb50cf78",
   "metadata": {},
   "outputs": [],
   "source": []
  },
  {
   "cell_type": "code",
   "execution_count": null,
   "id": "c88c8f90-e712-4138-b882-779c08df2ec4",
   "metadata": {},
   "outputs": [],
   "source": []
  },
  {
   "cell_type": "code",
   "execution_count": null,
   "id": "5bff5263-b3fd-4087-ab4f-4e3c76221ad5",
   "metadata": {},
   "outputs": [],
   "source": []
  },
  {
   "cell_type": "code",
   "execution_count": null,
   "id": "b97633ad-9695-40df-858d-9958b9c93895",
   "metadata": {},
   "outputs": [],
   "source": []
  },
  {
   "cell_type": "code",
   "execution_count": null,
   "id": "a0b1a68c-942c-44ba-8a55-afb68dc04011",
   "metadata": {},
   "outputs": [],
   "source": []
  },
  {
   "cell_type": "code",
   "execution_count": null,
   "id": "f6d0be06-2d28-4029-9a34-ff5e05fe31d8",
   "metadata": {},
   "outputs": [],
   "source": []
  },
  {
   "cell_type": "code",
   "execution_count": null,
   "id": "95e7ee38-9334-4d26-b0ea-a550f7be4479",
   "metadata": {},
   "outputs": [],
   "source": []
  },
  {
   "cell_type": "code",
   "execution_count": null,
   "id": "0abf4246-ee74-4450-adce-04d84b28f4d0",
   "metadata": {},
   "outputs": [],
   "source": []
  },
  {
   "cell_type": "code",
   "execution_count": null,
   "id": "5363dccb-30a2-436a-b8bb-404c24a31cd4",
   "metadata": {},
   "outputs": [],
   "source": []
  },
  {
   "cell_type": "code",
   "execution_count": null,
   "id": "b7a160bc-c462-48e7-88b3-00f8bcc5af9d",
   "metadata": {},
   "outputs": [],
   "source": []
  },
  {
   "cell_type": "code",
   "execution_count": null,
   "id": "529c653a-b8f0-4ed9-b1de-74401eafa82b",
   "metadata": {},
   "outputs": [],
   "source": []
  },
  {
   "cell_type": "code",
   "execution_count": null,
   "id": "c2a1b147-e5cc-47f3-8fcc-d2fd44e296c1",
   "metadata": {},
   "outputs": [],
   "source": []
  },
  {
   "cell_type": "code",
   "execution_count": null,
   "id": "64fac7d7-04a1-407d-9554-cacdd236e40a",
   "metadata": {},
   "outputs": [],
   "source": []
  },
  {
   "cell_type": "code",
   "execution_count": null,
   "id": "911f52a3-a6e7-41f2-ad6a-bd46196aa077",
   "metadata": {},
   "outputs": [],
   "source": []
  }
 ],
 "metadata": {
  "kernelspec": {
   "display_name": "Python [conda env:base] *",
   "language": "python",
   "name": "conda-base-py"
  },
  "language_info": {
   "codemirror_mode": {
    "name": "ipython",
    "version": 3
   },
   "file_extension": ".py",
   "mimetype": "text/x-python",
   "name": "python",
   "nbconvert_exporter": "python",
   "pygments_lexer": "ipython3",
   "version": "3.12.7"
  }
 },
 "nbformat": 4,
 "nbformat_minor": 5
}
